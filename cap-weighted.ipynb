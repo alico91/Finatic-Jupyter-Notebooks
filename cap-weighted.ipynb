{
 "cells": [
  {
   "cell_type": "code",
   "execution_count": 1,
   "metadata": {},
   "outputs": [],
   "source": [
    "%load_ext autoreload\n",
    "%autoreload 2\n",
    "%matplotlib inline"
   ]
  },
  {
   "cell_type": "code",
   "execution_count": 2,
   "metadata": {},
   "outputs": [],
   "source": [
    "import pandas as pd\n",
    "import numpy as np\n",
    "from datetime import datetime, timedelta\n",
    "import yfinance as yf # https://github.com/ranaroussi/yfinance\n",
    "from tools import Tools"
   ]
  },
  {
   "cell_type": "code",
   "execution_count": 3,
   "metadata": {},
   "outputs": [],
   "source": [
    "user_input = {\n",
    "    'tickers':['AARTIIND','ADANIENT','CONCOR', 'CUMMINSIND','DEEPAKNTR','GUJGASLTD', 'ITC', 'TECHM', 'UPL'],\n",
    "    'risk_free_rate': 0.08\n",
    "}"
   ]
  },
  {
   "cell_type": "code",
   "execution_count": 4,
   "metadata": {},
   "outputs": [],
   "source": [
    "tickers = user_input[\"tickers\"]"
   ]
  },
  {
   "cell_type": "code",
   "execution_count": 5,
   "metadata": {},
   "outputs": [
    {
     "name": "stdout",
     "output_type": "stream",
     "text": [
      "[*********************100%***********************]  9 of 9 completed\n",
      "Time Take to fetch: 2 seconds\n"
     ]
    }
   ],
   "source": [
    "start_time = datetime.now().timestamp()\n",
    "yf_data = yf.download(\n",
    "    tickers = [i+\".NS\" for i in tickers],\n",
    "    start = datetime.now()-timedelta(days=365*10),\n",
    "    end = datetime.now(),\n",
    "    period='5y',\n",
    "    interval='1d',\n",
    "    group_by='ticker'\n",
    ")\n",
    "end_time = datetime.now().timestamp()\n",
    "print(f\"Time Take to fetch: {round(end_time-start_time)} seconds\")"
   ]
  },
  {
   "cell_type": "code",
   "execution_count": 6,
   "metadata": {},
   "outputs": [],
   "source": [
    "df = pd.DataFrame()\n",
    "for i in tickers:\n",
    "    df[i] = yf_data[i+\".NS\"][\"Adj Close\"]"
   ]
  },
  {
   "cell_type": "code",
   "execution_count": 7,
   "metadata": {},
   "outputs": [],
   "source": [
    "fundamentals = pd.read_csv(\"datasets/fundamentals.csv\", index_col=\"Ticker\")"
   ]
  },
  {
   "cell_type": "code",
   "execution_count": 8,
   "metadata": {},
   "outputs": [
    {
     "data": {
      "text/plain": [
       "Ticker\n",
       "RELIANCE      1.211680e+13\n",
       "TCS           8.260300e+12\n",
       "HDFCBANK      6.034640e+12\n",
       "HINDUNILVR    5.482320e+12\n",
       "INFY          3.850280e+12\n",
       "HDFC          3.132710e+12\n",
       "BHARTIARTL    3.094370e+12\n",
       "KOTAKBANK     2.628640e+12\n",
       "ITC           2.384690e+12\n",
       "ICICIBANK     2.291560e+12\n",
       "Name: Market Capitalization, dtype: float64"
      ]
     },
     "execution_count": 8,
     "metadata": {},
     "output_type": "execute_result"
    }
   ],
   "source": [
    "fundamentals[\"Market Capitalization\"].sort_values(ascending=False).head(10)"
   ]
  },
  {
   "cell_type": "code",
   "execution_count": 9,
   "metadata": {},
   "outputs": [
    {
     "data": {
      "text/html": [
       "<div>\n",
       "<style scoped>\n",
       "    .dataframe tbody tr th:only-of-type {\n",
       "        vertical-align: middle;\n",
       "    }\n",
       "\n",
       "    .dataframe tbody tr th {\n",
       "        vertical-align: top;\n",
       "    }\n",
       "\n",
       "    .dataframe thead th {\n",
       "        text-align: right;\n",
       "    }\n",
       "</style>\n",
       "<table border=\"1\" class=\"dataframe\">\n",
       "  <thead>\n",
       "    <tr style=\"text-align: right;\">\n",
       "      <th></th>\n",
       "      <th>AARTIIND</th>\n",
       "      <th>ADANIENT</th>\n",
       "      <th>CONCOR</th>\n",
       "      <th>CUMMINSIND</th>\n",
       "      <th>DEEPAKNTR</th>\n",
       "      <th>GUJGASLTD</th>\n",
       "      <th>ITC</th>\n",
       "      <th>TECHM</th>\n",
       "      <th>UPL</th>\n",
       "    </tr>\n",
       "    <tr>\n",
       "      <th>Date</th>\n",
       "      <th></th>\n",
       "      <th></th>\n",
       "      <th></th>\n",
       "      <th></th>\n",
       "      <th></th>\n",
       "      <th></th>\n",
       "      <th></th>\n",
       "      <th></th>\n",
       "      <th></th>\n",
       "    </tr>\n",
       "  </thead>\n",
       "  <tbody>\n",
       "    <tr>\n",
       "      <th>2010-07-26</th>\n",
       "      <td>15.419174</td>\n",
       "      <td>72.263397</td>\n",
       "      <td>180.001709</td>\n",
       "      <td>331.111786</td>\n",
       "      <td>NaN</td>\n",
       "      <td>NaN</td>\n",
       "      <td>77.770187</td>\n",
       "      <td>148.478317</td>\n",
       "      <td>101.245430</td>\n",
       "    </tr>\n",
       "    <tr>\n",
       "      <th>2010-07-27</th>\n",
       "      <td>15.345255</td>\n",
       "      <td>74.530609</td>\n",
       "      <td>178.574524</td>\n",
       "      <td>330.718781</td>\n",
       "      <td>NaN</td>\n",
       "      <td>NaN</td>\n",
       "      <td>78.168655</td>\n",
       "      <td>143.023529</td>\n",
       "      <td>105.168503</td>\n",
       "    </tr>\n",
       "    <tr>\n",
       "      <th>2010-07-28</th>\n",
       "      <td>15.300906</td>\n",
       "      <td>75.114883</td>\n",
       "      <td>178.238464</td>\n",
       "      <td>345.457886</td>\n",
       "      <td>NaN</td>\n",
       "      <td>NaN</td>\n",
       "      <td>78.964867</td>\n",
       "      <td>144.271652</td>\n",
       "      <td>102.656143</td>\n",
       "    </tr>\n",
       "    <tr>\n",
       "      <th>2010-07-29</th>\n",
       "      <td>15.138290</td>\n",
       "      <td>73.984436</td>\n",
       "      <td>177.889755</td>\n",
       "      <td>344.531891</td>\n",
       "      <td>NaN</td>\n",
       "      <td>NaN</td>\n",
       "      <td>79.671646</td>\n",
       "      <td>141.453293</td>\n",
       "      <td>101.104027</td>\n",
       "    </tr>\n",
       "    <tr>\n",
       "      <th>2010-07-30</th>\n",
       "      <td>15.256556</td>\n",
       "      <td>74.155884</td>\n",
       "      <td>177.521561</td>\n",
       "      <td>357.333344</td>\n",
       "      <td>NaN</td>\n",
       "      <td>NaN</td>\n",
       "      <td>79.324806</td>\n",
       "      <td>140.959656</td>\n",
       "      <td>103.983025</td>\n",
       "    </tr>\n",
       "  </tbody>\n",
       "</table>\n",
       "</div>"
      ],
      "text/plain": [
       "             AARTIIND   ADANIENT      CONCOR  CUMMINSIND  DEEPAKNTR  \\\n",
       "Date                                                                  \n",
       "2010-07-26  15.419174  72.263397  180.001709  331.111786        NaN   \n",
       "2010-07-27  15.345255  74.530609  178.574524  330.718781        NaN   \n",
       "2010-07-28  15.300906  75.114883  178.238464  345.457886        NaN   \n",
       "2010-07-29  15.138290  73.984436  177.889755  344.531891        NaN   \n",
       "2010-07-30  15.256556  74.155884  177.521561  357.333344        NaN   \n",
       "\n",
       "            GUJGASLTD        ITC       TECHM         UPL  \n",
       "Date                                                      \n",
       "2010-07-26        NaN  77.770187  148.478317  101.245430  \n",
       "2010-07-27        NaN  78.168655  143.023529  105.168503  \n",
       "2010-07-28        NaN  78.964867  144.271652  102.656143  \n",
       "2010-07-29        NaN  79.671646  141.453293  101.104027  \n",
       "2010-07-30        NaN  79.324806  140.959656  103.983025  "
      ]
     },
     "execution_count": 9,
     "metadata": {},
     "output_type": "execute_result"
    }
   ],
   "source": [
    "df.head()"
   ]
  },
  {
   "cell_type": "markdown",
   "metadata": {},
   "source": [
    "## Total Basket Cap "
   ]
  },
  {
   "cell_type": "code",
   "execution_count": 10,
   "metadata": {},
   "outputs": [],
   "source": [
    "market_cap = {}\n",
    "total_basket_cap = 0\n",
    "for i in tickers:\n",
    "    market_cap[i] = fundamentals[\"Market Capitalization\"].loc[i]\n",
    "    total_basket_cap += fundamentals[\"Market Capitalization\"].loc[i]"
   ]
  },
  {
   "cell_type": "code",
   "execution_count": 11,
   "metadata": {},
   "outputs": [
    {
     "data": {
      "text/plain": [
       "{'AARTIIND': 157804000000.0,\n",
       " 'ADANIENT': 166731000000.0,\n",
       " 'CONCOR': 273207000000.0,\n",
       " 'CUMMINSIND': 106625000000.0,\n",
       " 'DEEPAKNTR': 72192800000.0,\n",
       " 'GUJGASLTD': 201561000000.0,\n",
       " 'ITC': 2384690000000.0,\n",
       " 'TECHM': 579658000000.0,\n",
       " 'UPL': 333391000000.0}"
      ]
     },
     "execution_count": 11,
     "metadata": {},
     "output_type": "execute_result"
    }
   ],
   "source": [
    "market_cap"
   ]
  },
  {
   "cell_type": "code",
   "execution_count": 12,
   "metadata": {},
   "outputs": [
    {
     "data": {
      "text/plain": [
       "4275859800000.0"
      ]
     },
     "execution_count": 12,
     "metadata": {},
     "output_type": "execute_result"
    }
   ],
   "source": [
    "total_basket_cap"
   ]
  },
  {
   "cell_type": "code",
   "execution_count": 13,
   "metadata": {},
   "outputs": [],
   "source": [
    "cap_weights = np.array([market_cap[i]/total_basket_cap for i in tickers])"
   ]
  },
  {
   "cell_type": "code",
   "execution_count": 14,
   "metadata": {},
   "outputs": [
    {
     "data": {
      "text/plain": [
       "array([0.03690579, 0.03899356, 0.06389522, 0.02493651, 0.01688381,\n",
       "       0.04713929, 0.55771005, 0.13556525, 0.07797052])"
      ]
     },
     "execution_count": 14,
     "metadata": {},
     "output_type": "execute_result"
    }
   ],
   "source": [
    "cap_weights"
   ]
  },
  {
   "cell_type": "code",
   "execution_count": 15,
   "metadata": {},
   "outputs": [],
   "source": [
    "# Individual Returns\n",
    "returns = df.pct_change().dropna()"
   ]
  },
  {
   "cell_type": "code",
   "execution_count": 16,
   "metadata": {},
   "outputs": [
    {
     "data": {
      "text/html": [
       "<div>\n",
       "<style scoped>\n",
       "    .dataframe tbody tr th:only-of-type {\n",
       "        vertical-align: middle;\n",
       "    }\n",
       "\n",
       "    .dataframe tbody tr th {\n",
       "        vertical-align: top;\n",
       "    }\n",
       "\n",
       "    .dataframe thead th {\n",
       "        text-align: right;\n",
       "    }\n",
       "</style>\n",
       "<table border=\"1\" class=\"dataframe\">\n",
       "  <thead>\n",
       "    <tr style=\"text-align: right;\">\n",
       "      <th></th>\n",
       "      <th>AARTIIND</th>\n",
       "      <th>ADANIENT</th>\n",
       "      <th>CONCOR</th>\n",
       "      <th>CUMMINSIND</th>\n",
       "      <th>DEEPAKNTR</th>\n",
       "      <th>GUJGASLTD</th>\n",
       "      <th>ITC</th>\n",
       "      <th>TECHM</th>\n",
       "      <th>UPL</th>\n",
       "    </tr>\n",
       "    <tr>\n",
       "      <th>Date</th>\n",
       "      <th></th>\n",
       "      <th></th>\n",
       "      <th></th>\n",
       "      <th></th>\n",
       "      <th></th>\n",
       "      <th></th>\n",
       "      <th></th>\n",
       "      <th></th>\n",
       "      <th></th>\n",
       "    </tr>\n",
       "  </thead>\n",
       "  <tbody>\n",
       "    <tr>\n",
       "      <th>2015-09-16</th>\n",
       "      <td>0.028183</td>\n",
       "      <td>0.016338</td>\n",
       "      <td>-0.056118</td>\n",
       "      <td>-0.007742</td>\n",
       "      <td>-0.018421</td>\n",
       "      <td>-0.050000</td>\n",
       "      <td>0.016086</td>\n",
       "      <td>0.006008</td>\n",
       "      <td>-0.029052</td>\n",
       "    </tr>\n",
       "    <tr>\n",
       "      <th>2015-09-18</th>\n",
       "      <td>0.054820</td>\n",
       "      <td>0.044207</td>\n",
       "      <td>0.020458</td>\n",
       "      <td>0.024875</td>\n",
       "      <td>0.038427</td>\n",
       "      <td>-0.049943</td>\n",
       "      <td>-0.012884</td>\n",
       "      <td>0.031885</td>\n",
       "      <td>0.006591</td>\n",
       "    </tr>\n",
       "    <tr>\n",
       "      <th>2015-09-21</th>\n",
       "      <td>0.073070</td>\n",
       "      <td>0.041050</td>\n",
       "      <td>-0.021254</td>\n",
       "      <td>0.001791</td>\n",
       "      <td>0.067126</td>\n",
       "      <td>-0.049996</td>\n",
       "      <td>-0.011793</td>\n",
       "      <td>0.010686</td>\n",
       "      <td>-0.021413</td>\n",
       "    </tr>\n",
       "    <tr>\n",
       "      <th>2015-09-22</th>\n",
       "      <td>0.012626</td>\n",
       "      <td>-0.033886</td>\n",
       "      <td>0.012580</td>\n",
       "      <td>-0.014215</td>\n",
       "      <td>0.010484</td>\n",
       "      <td>-0.038274</td>\n",
       "      <td>-0.006683</td>\n",
       "      <td>-0.017092</td>\n",
       "      <td>-0.017312</td>\n",
       "    </tr>\n",
       "    <tr>\n",
       "      <th>2015-09-23</th>\n",
       "      <td>-0.018804</td>\n",
       "      <td>0.020407</td>\n",
       "      <td>0.005156</td>\n",
       "      <td>-0.011699</td>\n",
       "      <td>0.015962</td>\n",
       "      <td>0.048808</td>\n",
       "      <td>0.012653</td>\n",
       "      <td>-0.003048</td>\n",
       "      <td>0.005295</td>\n",
       "    </tr>\n",
       "    <tr>\n",
       "      <th>...</th>\n",
       "      <td>...</td>\n",
       "      <td>...</td>\n",
       "      <td>...</td>\n",
       "      <td>...</td>\n",
       "      <td>...</td>\n",
       "      <td>...</td>\n",
       "      <td>...</td>\n",
       "      <td>...</td>\n",
       "      <td>...</td>\n",
       "    </tr>\n",
       "    <tr>\n",
       "      <th>2020-07-14</th>\n",
       "      <td>-0.011902</td>\n",
       "      <td>-0.040372</td>\n",
       "      <td>-0.005054</td>\n",
       "      <td>-0.004506</td>\n",
       "      <td>-0.004354</td>\n",
       "      <td>-0.032946</td>\n",
       "      <td>-0.008352</td>\n",
       "      <td>-0.002916</td>\n",
       "      <td>-0.003871</td>\n",
       "    </tr>\n",
       "    <tr>\n",
       "      <th>2020-07-15</th>\n",
       "      <td>-0.003924</td>\n",
       "      <td>-0.013356</td>\n",
       "      <td>0.018072</td>\n",
       "      <td>-0.016552</td>\n",
       "      <td>-0.027788</td>\n",
       "      <td>0.005344</td>\n",
       "      <td>0.014293</td>\n",
       "      <td>0.028414</td>\n",
       "      <td>0.000114</td>\n",
       "    </tr>\n",
       "    <tr>\n",
       "      <th>2020-07-16</th>\n",
       "      <td>-0.017619</td>\n",
       "      <td>0.007783</td>\n",
       "      <td>-0.002437</td>\n",
       "      <td>0.006838</td>\n",
       "      <td>-0.026520</td>\n",
       "      <td>-0.020266</td>\n",
       "      <td>-0.024409</td>\n",
       "      <td>-0.025841</td>\n",
       "      <td>-0.009370</td>\n",
       "    </tr>\n",
       "    <tr>\n",
       "      <th>2020-07-17</th>\n",
       "      <td>0.008355</td>\n",
       "      <td>0.018133</td>\n",
       "      <td>0.043615</td>\n",
       "      <td>0.004963</td>\n",
       "      <td>0.019060</td>\n",
       "      <td>-0.005765</td>\n",
       "      <td>0.001032</td>\n",
       "      <td>0.000500</td>\n",
       "      <td>0.006921</td>\n",
       "    </tr>\n",
       "    <tr>\n",
       "      <th>2020-07-20</th>\n",
       "      <td>-0.000055</td>\n",
       "      <td>0.060026</td>\n",
       "      <td>-0.005349</td>\n",
       "      <td>0.021572</td>\n",
       "      <td>-0.010769</td>\n",
       "      <td>0.001705</td>\n",
       "      <td>-0.006957</td>\n",
       "      <td>0.038603</td>\n",
       "      <td>0.039409</td>\n",
       "    </tr>\n",
       "  </tbody>\n",
       "</table>\n",
       "<p>1187 rows × 9 columns</p>\n",
       "</div>"
      ],
      "text/plain": [
       "            AARTIIND  ADANIENT    CONCOR  CUMMINSIND  DEEPAKNTR  GUJGASLTD  \\\n",
       "Date                                                                         \n",
       "2015-09-16  0.028183  0.016338 -0.056118   -0.007742  -0.018421  -0.050000   \n",
       "2015-09-18  0.054820  0.044207  0.020458    0.024875   0.038427  -0.049943   \n",
       "2015-09-21  0.073070  0.041050 -0.021254    0.001791   0.067126  -0.049996   \n",
       "2015-09-22  0.012626 -0.033886  0.012580   -0.014215   0.010484  -0.038274   \n",
       "2015-09-23 -0.018804  0.020407  0.005156   -0.011699   0.015962   0.048808   \n",
       "...              ...       ...       ...         ...        ...        ...   \n",
       "2020-07-14 -0.011902 -0.040372 -0.005054   -0.004506  -0.004354  -0.032946   \n",
       "2020-07-15 -0.003924 -0.013356  0.018072   -0.016552  -0.027788   0.005344   \n",
       "2020-07-16 -0.017619  0.007783 -0.002437    0.006838  -0.026520  -0.020266   \n",
       "2020-07-17  0.008355  0.018133  0.043615    0.004963   0.019060  -0.005765   \n",
       "2020-07-20 -0.000055  0.060026 -0.005349    0.021572  -0.010769   0.001705   \n",
       "\n",
       "                 ITC     TECHM       UPL  \n",
       "Date                                      \n",
       "2015-09-16  0.016086  0.006008 -0.029052  \n",
       "2015-09-18 -0.012884  0.031885  0.006591  \n",
       "2015-09-21 -0.011793  0.010686 -0.021413  \n",
       "2015-09-22 -0.006683 -0.017092 -0.017312  \n",
       "2015-09-23  0.012653 -0.003048  0.005295  \n",
       "...              ...       ...       ...  \n",
       "2020-07-14 -0.008352 -0.002916 -0.003871  \n",
       "2020-07-15  0.014293  0.028414  0.000114  \n",
       "2020-07-16 -0.024409 -0.025841 -0.009370  \n",
       "2020-07-17  0.001032  0.000500  0.006921  \n",
       "2020-07-20 -0.006957  0.038603  0.039409  \n",
       "\n",
       "[1187 rows x 9 columns]"
      ]
     },
     "execution_count": 16,
     "metadata": {},
     "output_type": "execute_result"
    }
   ],
   "source": [
    "returns"
   ]
  },
  {
   "cell_type": "code",
   "execution_count": 17,
   "metadata": {},
   "outputs": [],
   "source": [
    "inst = Tools(tickers, returns, 0.07)"
   ]
  },
  {
   "cell_type": "code",
   "execution_count": 18,
   "metadata": {},
   "outputs": [],
   "source": [
    "cw_return = inst.portfolio_return(cap_weights)\n",
    "cw_vol = inst.portfolio_vol(cap_weights)"
   ]
  },
  {
   "cell_type": "code",
   "execution_count": 19,
   "metadata": {},
   "outputs": [],
   "source": [
    "optimal_weights = inst.calc_optimal_weights(50)"
   ]
  },
  {
   "cell_type": "code",
   "execution_count": 20,
   "metadata": {},
   "outputs": [],
   "source": [
    "# Returns for each optimal weight\n",
    "portfolio_returns = [inst.portfolio_return(w) for w in optimal_weights]\n",
    "portfolio_volatility = [inst.portfolio_vol(w) for w in optimal_weights]"
   ]
  },
  {
   "cell_type": "code",
   "execution_count": 21,
   "metadata": {},
   "outputs": [],
   "source": [
    "efficient_frontier_df = pd.DataFrame(\n",
    "    {\n",
    "        \"PortfolioReturns\": portfolio_returns,\n",
    "        \"PortfolioVolatility\": portfolio_volatility\n",
    "    }\n",
    ")"
   ]
  },
  {
   "cell_type": "code",
   "execution_count": 22,
   "metadata": {},
   "outputs": [
    {
     "data": {
      "text/plain": [
       "[<matplotlib.lines.Line2D at 0x18107a1a208>]"
      ]
     },
     "execution_count": 22,
     "metadata": {},
     "output_type": "execute_result"
    },
    {
     "data": {
      "image/png": "[encoded data removed]",
      "text/plain": [
       "<Figure size 432x288 with 1 Axes>"
      ]
     },
     "metadata": {
      "needs_background": "light"
     },
     "output_type": "display_data"
    }
   ],
   "source": [
    "ax = efficient_frontier_df.plot.line(x=\"PortfolioVolatility\", y=\"PortfolioReturns\", style=\".-\")\n",
    "ax.set_xlim(left = 0)\n",
    "ax.plot([cw_vol], [cw_return], color='orange', marker='o', markersize=10)"
   ]
  },
  {
   "cell_type": "code",
   "execution_count": null,
   "metadata": {},
   "outputs": [],
   "source": []
  }
 ],
 "metadata": {
  "kernelspec": {
   "display_name": "Python 3",
   "language": "python",
   "name": "python3"
  },
  "language_info": {
   "codemirror_mode": {
    "name": "ipython",
    "version": 3
   },
   "file_extension": ".py",
   "mimetype": "text/x-python",
   "name": "python",
   "nbconvert_exporter": "python",
   "pygments_lexer": "ipython3",
   "version": "3.7.7"
  }
 },
 "nbformat": 4,
 "nbformat_minor": 4
}
