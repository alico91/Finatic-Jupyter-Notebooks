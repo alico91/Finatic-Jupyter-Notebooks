{
 "cells": [
  {
   "cell_type": "code",
   "execution_count": 1,
   "metadata": {},
   "outputs": [],
   "source": [
    "import urllib.request\n",
    "import json"
   ]
  },
  {
   "cell_type": "code",
   "execution_count": 2,
   "metadata": {},
   "outputs": [],
   "source": [
    "def mfsearch(query):\n",
    "    urla ='https://api.mfapi.in/mf/'\n",
    "    mf_no = query\n",
    "    furl = urla + str(mf_no)\n",
    "    return urllib.request.urlopen(furl).read()"
   ]
  },
  {
   "cell_type": "code",
   "execution_count": 3,
   "metadata": {},
   "outputs": [],
   "source": [
    "#json.loads(mfsearch(100350))"
   ]
  },
  {
   "cell_type": "code",
   "execution_count": 4,
   "metadata": {},
   "outputs": [],
   "source": [
    "import numpy as np\n",
    "import pandas as pd"
   ]
  },
  {
   "cell_type": "code",
   "execution_count": 5,
   "metadata": {},
   "outputs": [],
   "source": [
    "\n",
    "df = pd.DataFrame(columns=['code','Scheme Name'])"
   ]
  },
  {
   "cell_type": "code",
   "execution_count": 6,
   "metadata": {
    "code_folding": []
   },
   "outputs": [],
   "source": [
    "mfi = []\n",
    "mfn = []\n",
    "for i in range(100000,100100,1):\n",
    "    dat = mfsearch(i)\n",
    "    data = json.loads(dat)\n",
    "    res = not bool(data['data'])\n",
    "    if res == False and data['status']==\"SUCCESS\":\n",
    "        mfi.append(data['meta']['scheme_code'])\n",
    "        mfn.append(data['meta']['scheme_name'])\n"
   ]
  },
  {
   "cell_type": "code",
   "execution_count": 7,
   "metadata": {
    "tags": []
   },
   "outputs": [
    {
     "output_type": "stream",
     "name": "stdout",
     "text": "[100027, 100028, 100029, 100030, 100031, 100032, 100033, 100034, 100035, 100036, 100037, 100038, 100041, 100042, 100043, 100044, 100046, 100047, 100048, 100049, 100051, 100052, 100053, 100054, 100055, 100056, 100057, 100058, 100059, 100060, 100061, 100062, 100063, 100064, 100065, 100066, 100067, 100068, 100069, 100077, 100078, 100079, 100080, 100081, 100082, 100084, 100085, 100086, 100087, 100088, 100089, 100090]\n"
    }
   ],
   "source": [
    "print(mfi)"
   ]
  },
  {
   "cell_type": "code",
   "execution_count": 8,
   "metadata": {
    "tags": []
   },
   "outputs": [
    {
     "output_type": "stream",
     "name": "stdout",
     "text": "['Grindlays Super Saver Income Fund-GSSIF-Half Yearly Dividend', 'Grindlays Super Saver Income Fund-GSSIF-Quaterly Dividend', 'Grindlays Super Saver Income Fund-GSSIF-Growth', 'Grindlays Super Saver Income Fund-GSSIF-Annual Dividend', 'Grindlays Super Saver Income Fund-GSSIF - ST-Dividend', 'Grindlays Super Saver Income Fund-GSSIF - ST-Growth', 'Aditya Birla Sun Life Equity Advantage Fund - Regular Growth', 'Aditya Birla Sun Life Equity Advantage Fund -Regular Dividend', 'Birla Sun Life Freedom Fund-Plan A (Dividend)', 'Birla Sun Life Freedom Fund-Plan B (Growth)', 'Aditya Birla Sun Life Income Fund - Quarterly Dividend - Regular Plan', 'Aditya Birla Sun Life Income Fund - Growth - Regular Plan', 'Aditya Birla Sun Life Liquid Fund - Institutional Dividend', 'Aditya Birla Sun Life Liquid Fund-Retail (Growth)', 'Aditya Birla Sun Life Liquid Fund-Institutional (Growth)', 'Aditya Birla Sun Life Liquid Fund-Retail (Dividend)', 'Aditya Birla Sun Life Liquid Fund - Daily Dividend', 'Aditya Birla Sun Life Liquid Fund - Growth', 'Aditya Birla Sun Life Liquid Fund-Institutional -  Weekly Dividend', 'Aditya Birla Sun Life Cash Plus-Institutional - Fortnightly Dividend', 'Aditya Birla Sun Life Liquid Fund - Weekly Dividend', 'Aditya Birla Sun Life Cash Plus-Institutional Premium - Fortnightly Dividend', 'Aditya Birla Sun Life Cash Plus-Institutional Premium Plan-Monthly Dividend', 'Aditya Birla Sun Life Gilt Plus - Liquid Plan - Quarterly Dividend - Regular Plan', 'Aditya Birla Sun Life Gilt Plus - Liquid Plan - Growth - Regular Plan', 'Aditya Birla Sun Life Gilt Plus - Liquid Plan - Annual Dividend - Regular Plan', 'Aditya Birla Sun Life Government Securities Fund - Quarterly Dividend - Regular Plan', 'Aditya Birla Sun Life Government Securities Fund  - Growth - Regular Plan', 'Aditya Birla Sun Life Gilt Plus-PF Plan (Annual Dividend)', 'Aditya Birla Sun Life Constant Maturity 10 Year Gilt Fund - Quarterly Dividend - Regular Plan', 'Aditya Birla Sun Life Constant Maturity 10 Year Gilt Fund - Growth - Regular Plan', 'Aditya Birla Sun Life Gilt Plus-Regular Plan (Annual Dividend)', 'Aditya Birla Sun Life MNC Fund - Dividend - Regular Plan', 'Aditya Birla Sun Life MNC Fund - Growth - Regular Plan', 'Aditya Birla Sun Life India Opportunities Fund - Dividend - Regular Plan', 'Aditya Birla Sun Life India Opportunities Fund - Growth - Regular Plan', 'Aditya Birla Sun Life Tax Plan - Regular Plan - Dividend Option', 'BARODA ELSS 96 - Plan A - Dividend', 'BARODA PIONEER DIVERSIFIED FUND', 'DSP Bond Fund - Dividend', 'DSP Bond Fund - Growth', 'DSP Bond Fund - Monthly Dividend', 'DSP Equity Fund - Regular Plan - Dividend', 'DSP Equity & Bond Fund- Regular Plan - Growth', 'DSP Equity & Bond Fund- Regular Plan -Dividend', 'DSP Government Securities Fund - Regular Plan - Growth', 'DSP Government Securities Fund - Regular Plan - Dividend', 'DSP Government Securities Fund - Regular Plan - Monthly Dividend', 'DSP Savings Fund - Regular Plan - Growth', 'DSP Savings Fund - Regular Plan - Dividend', 'DSP Savings Fund - Regular Plan - Monthly Dividend', 'DSP BlackRock Technology.com   Fund - Regular Plan - Growth']\n"
    }
   ],
   "source": [
    "print(mfn)"
   ]
  },
  {
   "cell_type": "code",
   "execution_count": 9,
   "metadata": {},
   "outputs": [
    {
     "output_type": "execute_result",
     "data": {
      "text/plain": "      code                                        Scheme Name\n0   100027  Grindlays Super Saver Income Fund-GSSIF-Half Y...\n1   100028  Grindlays Super Saver Income Fund-GSSIF-Quater...\n2   100029     Grindlays Super Saver Income Fund-GSSIF-Growth\n3   100030  Grindlays Super Saver Income Fund-GSSIF-Annual...\n4   100031  Grindlays Super Saver Income Fund-GSSIF - ST-D...\n5   100032  Grindlays Super Saver Income Fund-GSSIF - ST-G...\n6   100033  Aditya Birla Sun Life Equity Advantage Fund - ...\n7   100034  Aditya Birla Sun Life Equity Advantage Fund -R...\n8   100035      Birla Sun Life Freedom Fund-Plan A (Dividend)\n9   100036        Birla Sun Life Freedom Fund-Plan B (Growth)\n10  100037  Aditya Birla Sun Life Income Fund - Quarterly ...\n11  100038  Aditya Birla Sun Life Income Fund - Growth - R...\n12  100041  Aditya Birla Sun Life Liquid Fund - Institutio...\n13  100042  Aditya Birla Sun Life Liquid Fund-Retail (Growth)\n14  100043  Aditya Birla Sun Life Liquid Fund-Institutiona...\n15  100044  Aditya Birla Sun Life Liquid Fund-Retail (Divi...\n16  100046  Aditya Birla Sun Life Liquid Fund - Daily Divi...\n17  100047         Aditya Birla Sun Life Liquid Fund - Growth\n18  100048  Aditya Birla Sun Life Liquid Fund-Institutiona...\n19  100049  Aditya Birla Sun Life Cash Plus-Institutional ...\n20  100051  Aditya Birla Sun Life Liquid Fund - Weekly Div...\n21  100052  Aditya Birla Sun Life Cash Plus-Institutional ...\n22  100053  Aditya Birla Sun Life Cash Plus-Institutional ...\n23  100054  Aditya Birla Sun Life Gilt Plus - Liquid Plan ...\n24  100055  Aditya Birla Sun Life Gilt Plus - Liquid Plan ...\n25  100056  Aditya Birla Sun Life Gilt Plus - Liquid Plan ...\n26  100057  Aditya Birla Sun Life Government Securities Fu...\n27  100058  Aditya Birla Sun Life Government Securities Fu...\n28  100059  Aditya Birla Sun Life Gilt Plus-PF Plan (Annua...\n29  100060  Aditya Birla Sun Life Constant Maturity 10 Yea...\n30  100061  Aditya Birla Sun Life Constant Maturity 10 Yea...\n31  100062  Aditya Birla Sun Life Gilt Plus-Regular Plan (...\n32  100063  Aditya Birla Sun Life MNC Fund - Dividend - Re...\n33  100064  Aditya Birla Sun Life MNC Fund - Growth - Regu...\n34  100065  Aditya Birla Sun Life India Opportunities Fund...\n35  100066  Aditya Birla Sun Life India Opportunities Fund...\n36  100067  Aditya Birla Sun Life Tax Plan - Regular Plan ...\n37  100068                 BARODA ELSS 96 - Plan A - Dividend\n38  100069                    BARODA PIONEER DIVERSIFIED FUND\n39  100077                           DSP Bond Fund - Dividend\n40  100078                             DSP Bond Fund - Growth\n41  100079                   DSP Bond Fund - Monthly Dividend\n42  100080          DSP Equity Fund - Regular Plan - Dividend\n43  100081      DSP Equity & Bond Fund- Regular Plan - Growth\n44  100082     DSP Equity & Bond Fund- Regular Plan -Dividend\n45  100084  DSP Government Securities Fund - Regular Plan ...\n46  100085  DSP Government Securities Fund - Regular Plan ...\n47  100086  DSP Government Securities Fund - Regular Plan ...\n48  100087           DSP Savings Fund - Regular Plan - Growth\n49  100088         DSP Savings Fund - Regular Plan - Dividend\n50  100089  DSP Savings Fund - Regular Plan - Monthly Divi...\n51  100090  DSP BlackRock Technology.com   Fund - Regular ...",
      "text/html": "<div>\n<style scoped>\n    .dataframe tbody tr th:only-of-type {\n        vertical-align: middle;\n    }\n\n    .dataframe tbody tr th {\n        vertical-align: top;\n    }\n\n    .dataframe thead th {\n        text-align: right;\n    }\n</style>\n<table border=\"1\" class=\"dataframe\">\n  <thead>\n    <tr style=\"text-align: right;\">\n      <th></th>\n      <th>code</th>\n      <th>Scheme Name</th>\n    </tr>\n  </thead>\n  <tbody>\n    <tr>\n      <th>0</th>\n      <td>100027</td>\n      <td>Grindlays Super Saver Income Fund-GSSIF-Half Y...</td>\n    </tr>\n    <tr>\n      <th>1</th>\n      <td>100028</td>\n      <td>Grindlays Super Saver Income Fund-GSSIF-Quater...</td>\n    </tr>\n    <tr>\n      <th>2</th>\n      <td>100029</td>\n      <td>Grindlays Super Saver Income Fund-GSSIF-Growth</td>\n    </tr>\n    <tr>\n      <th>3</th>\n      <td>100030</td>\n      <td>Grindlays Super Saver Income Fund-GSSIF-Annual...</td>\n    </tr>\n    <tr>\n      <th>4</th>\n      <td>100031</td>\n      <td>Grindlays Super Saver Income Fund-GSSIF - ST-D...</td>\n    </tr>\n    <tr>\n      <th>5</th>\n      <td>100032</td>\n      <td>Grindlays Super Saver Income Fund-GSSIF - ST-G...</td>\n    </tr>\n    <tr>\n      <th>6</th>\n      <td>100033</td>\n      <td>Aditya Birla Sun Life Equity Advantage Fund - ...</td>\n    </tr>\n    <tr>\n      <th>7</th>\n      <td>100034</td>\n      <td>Aditya Birla Sun Life Equity Advantage Fund -R...</td>\n    </tr>\n    <tr>\n      <th>8</th>\n      <td>100035</td>\n      <td>Birla Sun Life Freedom Fund-Plan A (Dividend)</td>\n    </tr>\n    <tr>\n      <th>9</th>\n      <td>100036</td>\n      <td>Birla Sun Life Freedom Fund-Plan B (Growth)</td>\n    </tr>\n    <tr>\n      <th>10</th>\n      <td>100037</td>\n      <td>Aditya Birla Sun Life Income Fund - Quarterly ...</td>\n    </tr>\n    <tr>\n      <th>11</th>\n      <td>100038</td>\n      <td>Aditya Birla Sun Life Income Fund - Growth - R...</td>\n    </tr>\n    <tr>\n      <th>12</th>\n      <td>100041</td>\n      <td>Aditya Birla Sun Life Liquid Fund - Institutio...</td>\n    </tr>\n    <tr>\n      <th>13</th>\n      <td>100042</td>\n      <td>Aditya Birla Sun Life Liquid Fund-Retail (Growth)</td>\n    </tr>\n    <tr>\n      <th>14</th>\n      <td>100043</td>\n      <td>Aditya Birla Sun Life Liquid Fund-Institutiona...</td>\n    </tr>\n    <tr>\n      <th>15</th>\n      <td>100044</td>\n      <td>Aditya Birla Sun Life Liquid Fund-Retail (Divi...</td>\n    </tr>\n    <tr>\n      <th>16</th>\n      <td>100046</td>\n      <td>Aditya Birla Sun Life Liquid Fund - Daily Divi...</td>\n    </tr>\n    <tr>\n      <th>17</th>\n      <td>100047</td>\n      <td>Aditya Birla Sun Life Liquid Fund - Growth</td>\n    </tr>\n    <tr>\n      <th>18</th>\n      <td>100048</td>\n      <td>Aditya Birla Sun Life Liquid Fund-Institutiona...</td>\n    </tr>\n    <tr>\n      <th>19</th>\n      <td>100049</td>\n      <td>Aditya Birla Sun Life Cash Plus-Institutional ...</td>\n    </tr>\n    <tr>\n      <th>20</th>\n      <td>100051</td>\n      <td>Aditya Birla Sun Life Liquid Fund - Weekly Div...</td>\n    </tr>\n    <tr>\n      <th>21</th>\n      <td>100052</td>\n      <td>Aditya Birla Sun Life Cash Plus-Institutional ...</td>\n    </tr>\n    <tr>\n      <th>22</th>\n      <td>100053</td>\n      <td>Aditya Birla Sun Life Cash Plus-Institutional ...</td>\n    </tr>\n    <tr>\n      <th>23</th>\n      <td>100054</td>\n      <td>Aditya Birla Sun Life Gilt Plus - Liquid Plan ...</td>\n    </tr>\n    <tr>\n      <th>24</th>\n      <td>100055</td>\n      <td>Aditya Birla Sun Life Gilt Plus - Liquid Plan ...</td>\n    </tr>\n    <tr>\n      <th>25</th>\n      <td>100056</td>\n      <td>Aditya Birla Sun Life Gilt Plus - Liquid Plan ...</td>\n    </tr>\n    <tr>\n      <th>26</th>\n      <td>100057</td>\n      <td>Aditya Birla Sun Life Government Securities Fu...</td>\n    </tr>\n    <tr>\n      <th>27</th>\n      <td>100058</td>\n      <td>Aditya Birla Sun Life Government Securities Fu...</td>\n    </tr>\n    <tr>\n      <th>28</th>\n      <td>100059</td>\n      <td>Aditya Birla Sun Life Gilt Plus-PF Plan (Annua...</td>\n    </tr>\n    <tr>\n      <th>29</th>\n      <td>100060</td>\n      <td>Aditya Birla Sun Life Constant Maturity 10 Yea...</td>\n    </tr>\n    <tr>\n      <th>30</th>\n      <td>100061</td>\n      <td>Aditya Birla Sun Life Constant Maturity 10 Yea...</td>\n    </tr>\n    <tr>\n      <th>31</th>\n      <td>100062</td>\n      <td>Aditya Birla Sun Life Gilt Plus-Regular Plan (...</td>\n    </tr>\n    <tr>\n      <th>32</th>\n      <td>100063</td>\n      <td>Aditya Birla Sun Life MNC Fund - Dividend - Re...</td>\n    </tr>\n    <tr>\n      <th>33</th>\n      <td>100064</td>\n      <td>Aditya Birla Sun Life MNC Fund - Growth - Regu...</td>\n    </tr>\n    <tr>\n      <th>34</th>\n      <td>100065</td>\n      <td>Aditya Birla Sun Life India Opportunities Fund...</td>\n    </tr>\n    <tr>\n      <th>35</th>\n      <td>100066</td>\n      <td>Aditya Birla Sun Life India Opportunities Fund...</td>\n    </tr>\n    <tr>\n      <th>36</th>\n      <td>100067</td>\n      <td>Aditya Birla Sun Life Tax Plan - Regular Plan ...</td>\n    </tr>\n    <tr>\n      <th>37</th>\n      <td>100068</td>\n      <td>BARODA ELSS 96 - Plan A - Dividend</td>\n    </tr>\n    <tr>\n      <th>38</th>\n      <td>100069</td>\n      <td>BARODA PIONEER DIVERSIFIED FUND</td>\n    </tr>\n    <tr>\n      <th>39</th>\n      <td>100077</td>\n      <td>DSP Bond Fund - Dividend</td>\n    </tr>\n    <tr>\n      <th>40</th>\n      <td>100078</td>\n      <td>DSP Bond Fund - Growth</td>\n    </tr>\n    <tr>\n      <th>41</th>\n      <td>100079</td>\n      <td>DSP Bond Fund - Monthly Dividend</td>\n    </tr>\n    <tr>\n      <th>42</th>\n      <td>100080</td>\n      <td>DSP Equity Fund - Regular Plan - Dividend</td>\n    </tr>\n    <tr>\n      <th>43</th>\n      <td>100081</td>\n      <td>DSP Equity &amp; Bond Fund- Regular Plan - Growth</td>\n    </tr>\n    <tr>\n      <th>44</th>\n      <td>100082</td>\n      <td>DSP Equity &amp; Bond Fund- Regular Plan -Dividend</td>\n    </tr>\n    <tr>\n      <th>45</th>\n      <td>100084</td>\n      <td>DSP Government Securities Fund - Regular Plan ...</td>\n    </tr>\n    <tr>\n      <th>46</th>\n      <td>100085</td>\n      <td>DSP Government Securities Fund - Regular Plan ...</td>\n    </tr>\n    <tr>\n      <th>47</th>\n      <td>100086</td>\n      <td>DSP Government Securities Fund - Regular Plan ...</td>\n    </tr>\n    <tr>\n      <th>48</th>\n      <td>100087</td>\n      <td>DSP Savings Fund - Regular Plan - Growth</td>\n    </tr>\n    <tr>\n      <th>49</th>\n      <td>100088</td>\n      <td>DSP Savings Fund - Regular Plan - Dividend</td>\n    </tr>\n    <tr>\n      <th>50</th>\n      <td>100089</td>\n      <td>DSP Savings Fund - Regular Plan - Monthly Divi...</td>\n    </tr>\n    <tr>\n      <th>51</th>\n      <td>100090</td>\n      <td>DSP BlackRock Technology.com   Fund - Regular ...</td>\n    </tr>\n  </tbody>\n</table>\n</div>"
     },
     "metadata": {},
     "execution_count": 9
    }
   ],
   "source": [
    "df['code'] = mfi\n",
    "df['Scheme Name'] = mfn\n",
    "df"
   ]
  },
  {
   "cell_type": "code",
   "execution_count": 16,
   "metadata": {
    "tags": []
   },
   "outputs": [
    {
     "output_type": "stream",
     "name": "stdout",
     "text": "[100027, 100028, 100029, 100030, 100031, 100032, 100033, 100034, 100035, 100036, 100037, 100038, 100041, 100042, 100043, 100044, 100046, 100047, 100048, 100049, 100051, 100052, 100053, 100054, 100055, 100056, 100057, 100058, 100059, 100060, 100061, 100062, 100063, 100064, 100065, 100066, 100067, 100068, 100069, 100077, 100078, 100079, 100080, 100081, 100082, 100084, 100085, 100086, 100087, 100088, 100089, 100090, 147002, 147003, 147006, 147019, 147021, 147022, 147071, 147072, 147073, 147076, 147077, 147078, 147079, 147095, 147096, 147097, 147098, 147103, 147104, 147105, 147106, 147113, 147122, 147123, 147124, 147125, 147126, 147127, 147128, 147129, 147130, 147131, 147132, 147133, 147134, 147135, 147136, 147137, 147138, 147139, 147141, 147142, 147149, 147150, 147151, 147152, 147153, 147154, 147155, 147156, 147157, 147158, 147159, 147160, 147161, 147162, 147163, 147164, 147165, 147166, 147168, 147169, 147172, 147174, 147183, 147184, 147185, 147186, 147193, 147194, 147195, 147196, 147197, 147198, 147199, 147200, 147201, 147202, 147203, 147204, 147205, 147206, 147207, 147208, 147209, 147210, 147211, 147212, 147213, 147214, 147215, 147216, 147217, 147218, 147219, 147220, 147221, 147222, 147223, 147224, 147225, 147226, 147233, 147234, 147235, 147236, 147237, 147238, 147240, 147242, 147243, 147244, 147245, 147246, 147247, 147248, 147249, 147250, 147251, 147252, 147253, 147254, 147255, 147256, 147257, 147258, 147259, 147261, 147262, 147263, 147264, 147265, 147266, 147267, 147269, 147271, 147287, 147288, 147289, 147290, 147291, 147296, 147300, 147301, 147303, 147304, 147305, 147306, 147307, 147308, 147309, 147310, 147311, 147312, 147313, 147314, 147315, 147316, 147317, 147318, 147319, 147320, 147321, 147322, 147323, 147324, 147326, 147327, 147328, 147329, 147330, 147331, 147332, 147333, 147334, 147345, 147346, 147347, 147348, 147351, 147352, 147353, 147354, 147355, 147356, 147357, 147358, 147359, 147360, 147361, 147362, 147363, 147364, 147365, 147366, 147367, 147368, 147369, 147371, 147372, 147373, 147376, 147377, 147378, 147380, 147381, 147382, 147383, 147384, 147385, 147386, 147387, 147388, 147389, 147390, 147391, 147392, 147393, 147394, 147395, 147396, 147397, 147398, 147399, 147400, 147401, 147402, 147403, 147404, 147405, 147406, 147407, 147408, 147409, 147410, 147411, 147412, 147414, 147415, 147416, 147417, 147418, 147419, 147420, 147421, 147422, 147423, 147424, 147425, 147426, 147427, 147428, 147429, 147430, 147431, 147432, 147433, 147434, 147435, 147436, 147437, 147438, 147439, 147440, 147441, 147444, 147445, 147446, 147447, 147448, 147449, 147450, 147451, 147452, 147453, 147454, 147455, 147456, 147457, 147458, 147459, 147460, 147461, 147462, 147463, 147464, 147465, 147466, 147467, 147472, 147473, 147475, 147477, 147478, 147479, 147480, 147481, 147482, 147483, 147484, 147485, 147486, 147487, 147490, 147491, 147492, 147493, 147494, 147495, 147496, 147498, 147508, 147509, 147510, 147511, 147512, 147513, 147514, 147515, 147516, 147517, 147519, 147520, 147521, 147522, 147523, 147530, 147531, 147532, 147533, 147534, 147541, 147542, 147543, 147544, 147551, 147552, 147553, 147554, 147555, 147557, 147559, 147560, 147561, 147562, 147563, 147564, 147565, 147566, 147567, 147568, 147569, 147570, 147571, 147572, 147573, 147574, 147575, 147576, 147577, 147578, 147579, 147580, 147581, 147582, 147583, 147584, 147585, 147586, 147587, 147588, 147589, 147590, 147591, 147592, 147593, 147595, 147597, 147598, 147599, 147600, 147605, 147606, 147607, 147608, 147609, 147610, 147611, 147612, 147613, 147614, 147615, 147616, 147617, 147618, 147619, 147620, 147621, 147622, 147623, 147624, 147625, 147626, 147627, 147628, 147629, 147630, 147631, 147632, 147633, 147634, 147635, 147636, 147637, 147638, 147639, 147640, 147641, 147642, 147643, 147644, 147645, 147646, 147647, 147648, 147649, 147650, 147651, 147652, 147653, 147654, 147655, 147656, 147657, 147658, 147659, 147660, 147661, 147662, 147663, 147664, 147665, 147666, 147667, 147668, 147669, 147670, 147671, 147672, 147673, 147674, 147675, 147676, 147677, 147678, 147679, 147680, 147681, 147682, 147683, 147684, 147685, 147686, 147687, 147688, 147689, 147690, 147691, 147692, 147693, 147694, 147695, 147696, 147697, 147698, 147699, 147700, 147701, 147703, 147704, 147706, 147707, 147708, 147709, 147710, 147711, 147712, 147713, 147714, 147715, 147716, 147717, 147718, 147719, 147720, 147721, 147722, 147724, 147725, 147727, 147728, 147729, 147730, 147731, 147732, 147733, 147734, 147735, 147736, 147737, 147738, 147739, 147740, 147741, 147742, 147743, 147744, 147745, 147746, 147747, 147748, 147749, 147750, 147751, 147752, 147753, 147754, 147755, 147756, 147757, 147758, 147759, 147760, 147761, 147762, 147763, 147764, 147765, 147766, 147767, 147768, 147769, 147770, 147771, 147772, 147773, 147774, 147775, 147776, 147777, 147778, 147779, 147780, 147781, 147782, 147783, 147784, 147785, 147786, 147787, 147788, 147789, 147790, 147791, 147792, 147793, 147794, 147795, 147796, 147797, 147798, 147799, 147800, 147801, 147802, 147803, 147804, 147805, 147806, 147807, 147808, 147809, 147810, 147811, 147812, 147814, 147815, 147816, 147817, 147818, 147819, 147820, 147821, 147822, 147823, 147824, 147825, 147826, 147827, 147828, 147829, 147830, 147831, 147832, 147833, 147834, 147835, 147836, 147837, 147838, 147839, 147840, 147841, 147842, 147843, 147844, 147845, 147846, 147847, 147848, 147849, 147850, 147851, 147852, 147853, 147854, 147855, 147856, 147857, 147858, 147859, 147860, 147861, 147862, 147863, 147864, 147865, 147866, 147867, 147868, 147869, 147870, 147871, 147872, 147873, 147878, 147879, 147880, 147881, 147883, 147884, 147885, 147886, 147888, 147889, 147890, 147891, 147892, 147893, 147895, 147896, 147897, 147898, 147899, 147900, 147901, 147902, 147903, 147904, 147905, 147906, 147907, 147908, 147909, 147910, 147911, 147912, 147915, 147916, 147917, 147918, 147919, 147920, 147921, 147922, 147923, 147924, 147925, 147926, 147927, 147928, 147929, 147930, 147931, 147936, 147937, 147938, 147939, 147940, 147941, 147942, 147943, 147944, 147945, 147946, 147948, 147951, 147952, 147953, 147954, 147955, 147956, 147957, 147958, 147959, 147960, 147961, 147962, 147963, 147964, 147965, 147966, 147967, 147968, 147969, 147970, 147971, 147972, 147973, 147974, 147975, 147976, 147977, 147978, 147979, 147980, 147981, 147982, 147983, 147984, 147985, 147986, 147987, 147988, 147989, 147990, 147991, 147992, 147993, 147994, 147995, 147996, 147997, 147998, 147999, 148000, 148001, 148002, 148003, 148004, 148005, 148006, 148007, 148008, 148009, 148010, 148011, 148012, 148013, 148014, 148015, 148016, 148017, 148018, 148023, 148024, 148025, 148026, 148027, 148028, 148033, 148034, 148035, 148036, 148049, 148050, 148051, 148052, 148053, 148054, 148055, 148056, 148057, 148058, 148063, 148064, 148071, 148072, 148073, 148074, 148075, 148076, 148077, 148078, 148079, 148080, 148081, 148082, 148083, 148084, 148085, 148086, 148087, 148088, 148089, 148090, 148091, 148092, 148094, 148095, 148096, 148097, 148098, 148100, 148101, 148104, 148105, 148106, 148108, 148109, 148111, 148112, 148115, 148117, 148118, 148119, 148120, 148121, 148122, 148123, 148124, 148125, 148126, 148127, 148128, 148129, 148130, 148131, 148132, 148133, 148134, 148135, 148136, 148137, 148138, 148139, 148140, 148141, 148142, 148143, 148144, 148145, 148146, 148147, 148148, 148149, 148150, 148151, 148152, 148153, 148154, 148155, 148156, 148157, 148158, 148159, 148160, 148161, 148162, 148163, 148171, 148172, 148174, 148175, 148176, 148178, 148180, 148181, 148182, 148185, 148186, 148187, 148192, 148193, 148194, 148195, 148196, 148197, 148198, 148199, 148200, 148202, 148203, 148204, 148205, 148206, 148207, 148208, 148214, 148217, 148219, 148220, 148221, 148234, 148235, 148236, 148237, 148238, 148239, 148240, 148241, 148242, 148243, 148244, 148245, 148246, 148247, 148248, 148249, 148250, 148251, 148252, 148253, 148254, 148255, 148256, 148257, 148258, 148259, 148260, 148261, 148262, 148263, 148264, 148265, 148266, 148267, 148268, 148269, 148270, 148271, 148272, 148273, 148274, 148275, 148276, 148277, 148278, 148279, 148280, 148281, 148282, 148283, 148284, 148285, 148286, 148287, 148288, 148289, 148290, 148291, 148292, 148293, 148294, 148295, 148296, 148297, 148298, 148299, 148300, 148301, 148302, 148303, 148304, 148305, 148306, 148307, 148308, 148309, 148310, 148311, 148312, 148313, 148314, 148315, 148316, 148317, 148318, 148319, 148320, 148321, 148322, 148323, 148324, 148325, 148326, 148327, 148328, 148329, 148330, 148331, 148332, 148333, 148334, 148335, 148342, 148343, 148344, 148345, 148359, 148360, 148361, 148362, 148363, 148364, 148365, 148366, 148367, 148368, 148369, 148370, 148381, 148382, 148383, 148384, 148385, 148386, 148387, 148388, 148389, 148390, 148397, 148398, 148399, 148400, 148401, 148402, 148403, 148404, 148405, 148406, 148407, 148408, 148409, 148410, 148411, 148412, 148413, 148414, 148415, 148416, 148417, 148418, 148419, 148420, 148421, 148422, 148423, 148424, 148425, 148426, 148427, 148428, 148429, 148430, 148431, 148432, 148433, 148434, 148435, 148436, 148437, 148438, 148439, 148440, 148441, 148442, 148443, 148444, 148445, 148446, 148447, 148448, 148449, 148450, 148451, 148452, 148453]\n"
    }
   ],
   "source": [
    "for i in range(148500,149000,1):\n",
    "    dat = mfsearch(i)\n",
    "    data = json.loads(dat)\n",
    "    res = not bool(data['data'])\n",
    "    if res == False and data['status']==\"SUCCESS\":\n",
    "        mfi.append(data['meta']['scheme_code'])\n",
    "        mfn.append(data['meta']['scheme_name'])\n",
    "print(mfi)"
   ]
  },
  {
   "cell_type": "code",
   "execution_count": 17,
   "metadata": {},
   "outputs": [
    {
     "output_type": "error",
     "ename": "ValueError",
     "evalue": "Length of values does not match length of index",
     "traceback": [
      "\u001b[1;31m---------------------------------------------------------------------------\u001b[0m",
      "\u001b[1;31mValueError\u001b[0m                                Traceback (most recent call last)",
      "\u001b[1;32m<ipython-input-17-12e9bb242edf>\u001b[0m in \u001b[0;36m<module>\u001b[1;34m\u001b[0m\n\u001b[1;32m----> 1\u001b[1;33m \u001b[0mdf\u001b[0m\u001b[1;33m[\u001b[0m\u001b[1;34m'code'\u001b[0m\u001b[1;33m]\u001b[0m \u001b[1;33m=\u001b[0m \u001b[0mmfi\u001b[0m\u001b[1;33m\u001b[0m\u001b[1;33m\u001b[0m\u001b[0m\n\u001b[0m\u001b[0;32m      2\u001b[0m \u001b[0mdf\u001b[0m\u001b[1;33m[\u001b[0m\u001b[1;34m'Scheme Name'\u001b[0m\u001b[1;33m]\u001b[0m \u001b[1;33m=\u001b[0m \u001b[0mmfn\u001b[0m\u001b[1;33m\u001b[0m\u001b[1;33m\u001b[0m\u001b[0m\n\u001b[0;32m      3\u001b[0m \u001b[0mdf\u001b[0m\u001b[1;33m\u001b[0m\u001b[1;33m\u001b[0m\u001b[0m\n",
      "\u001b[1;32m~\\Anaconda3\\lib\\site-packages\\pandas\\core\\frame.py\u001b[0m in \u001b[0;36m__setitem__\u001b[1;34m(self, key, value)\u001b[0m\n\u001b[0;32m   3368\u001b[0m         \u001b[1;32melse\u001b[0m\u001b[1;33m:\u001b[0m\u001b[1;33m\u001b[0m\u001b[1;33m\u001b[0m\u001b[0m\n\u001b[0;32m   3369\u001b[0m             \u001b[1;31m# set column\u001b[0m\u001b[1;33m\u001b[0m\u001b[1;33m\u001b[0m\u001b[1;33m\u001b[0m\u001b[0m\n\u001b[1;32m-> 3370\u001b[1;33m             \u001b[0mself\u001b[0m\u001b[1;33m.\u001b[0m\u001b[0m_set_item\u001b[0m\u001b[1;33m(\u001b[0m\u001b[0mkey\u001b[0m\u001b[1;33m,\u001b[0m \u001b[0mvalue\u001b[0m\u001b[1;33m)\u001b[0m\u001b[1;33m\u001b[0m\u001b[1;33m\u001b[0m\u001b[0m\n\u001b[0m\u001b[0;32m   3371\u001b[0m \u001b[1;33m\u001b[0m\u001b[0m\n\u001b[0;32m   3372\u001b[0m     \u001b[1;32mdef\u001b[0m \u001b[0m_setitem_slice\u001b[0m\u001b[1;33m(\u001b[0m\u001b[0mself\u001b[0m\u001b[1;33m,\u001b[0m \u001b[0mkey\u001b[0m\u001b[1;33m,\u001b[0m \u001b[0mvalue\u001b[0m\u001b[1;33m)\u001b[0m\u001b[1;33m:\u001b[0m\u001b[1;33m\u001b[0m\u001b[1;33m\u001b[0m\u001b[0m\n",
      "\u001b[1;32m~\\Anaconda3\\lib\\site-packages\\pandas\\core\\frame.py\u001b[0m in \u001b[0;36m_set_item\u001b[1;34m(self, key, value)\u001b[0m\n\u001b[0;32m   3443\u001b[0m \u001b[1;33m\u001b[0m\u001b[0m\n\u001b[0;32m   3444\u001b[0m         \u001b[0mself\u001b[0m\u001b[1;33m.\u001b[0m\u001b[0m_ensure_valid_index\u001b[0m\u001b[1;33m(\u001b[0m\u001b[0mvalue\u001b[0m\u001b[1;33m)\u001b[0m\u001b[1;33m\u001b[0m\u001b[1;33m\u001b[0m\u001b[0m\n\u001b[1;32m-> 3445\u001b[1;33m         \u001b[0mvalue\u001b[0m \u001b[1;33m=\u001b[0m \u001b[0mself\u001b[0m\u001b[1;33m.\u001b[0m\u001b[0m_sanitize_column\u001b[0m\u001b[1;33m(\u001b[0m\u001b[0mkey\u001b[0m\u001b[1;33m,\u001b[0m \u001b[0mvalue\u001b[0m\u001b[1;33m)\u001b[0m\u001b[1;33m\u001b[0m\u001b[1;33m\u001b[0m\u001b[0m\n\u001b[0m\u001b[0;32m   3446\u001b[0m         \u001b[0mNDFrame\u001b[0m\u001b[1;33m.\u001b[0m\u001b[0m_set_item\u001b[0m\u001b[1;33m(\u001b[0m\u001b[0mself\u001b[0m\u001b[1;33m,\u001b[0m \u001b[0mkey\u001b[0m\u001b[1;33m,\u001b[0m \u001b[0mvalue\u001b[0m\u001b[1;33m)\u001b[0m\u001b[1;33m\u001b[0m\u001b[1;33m\u001b[0m\u001b[0m\n\u001b[0;32m   3447\u001b[0m \u001b[1;33m\u001b[0m\u001b[0m\n",
      "\u001b[1;32m~\\Anaconda3\\lib\\site-packages\\pandas\\core\\frame.py\u001b[0m in \u001b[0;36m_sanitize_column\u001b[1;34m(self, key, value, broadcast)\u001b[0m\n\u001b[0;32m   3628\u001b[0m \u001b[1;33m\u001b[0m\u001b[0m\n\u001b[0;32m   3629\u001b[0m             \u001b[1;31m# turn me into an ndarray\u001b[0m\u001b[1;33m\u001b[0m\u001b[1;33m\u001b[0m\u001b[1;33m\u001b[0m\u001b[0m\n\u001b[1;32m-> 3630\u001b[1;33m             \u001b[0mvalue\u001b[0m \u001b[1;33m=\u001b[0m \u001b[0msanitize_index\u001b[0m\u001b[1;33m(\u001b[0m\u001b[0mvalue\u001b[0m\u001b[1;33m,\u001b[0m \u001b[0mself\u001b[0m\u001b[1;33m.\u001b[0m\u001b[0mindex\u001b[0m\u001b[1;33m,\u001b[0m \u001b[0mcopy\u001b[0m\u001b[1;33m=\u001b[0m\u001b[1;32mFalse\u001b[0m\u001b[1;33m)\u001b[0m\u001b[1;33m\u001b[0m\u001b[1;33m\u001b[0m\u001b[0m\n\u001b[0m\u001b[0;32m   3631\u001b[0m             \u001b[1;32mif\u001b[0m \u001b[1;32mnot\u001b[0m \u001b[0misinstance\u001b[0m\u001b[1;33m(\u001b[0m\u001b[0mvalue\u001b[0m\u001b[1;33m,\u001b[0m \u001b[1;33m(\u001b[0m\u001b[0mnp\u001b[0m\u001b[1;33m.\u001b[0m\u001b[0mndarray\u001b[0m\u001b[1;33m,\u001b[0m \u001b[0mIndex\u001b[0m\u001b[1;33m)\u001b[0m\u001b[1;33m)\u001b[0m\u001b[1;33m:\u001b[0m\u001b[1;33m\u001b[0m\u001b[1;33m\u001b[0m\u001b[0m\n\u001b[0;32m   3632\u001b[0m                 \u001b[1;32mif\u001b[0m \u001b[0misinstance\u001b[0m\u001b[1;33m(\u001b[0m\u001b[0mvalue\u001b[0m\u001b[1;33m,\u001b[0m \u001b[0mlist\u001b[0m\u001b[1;33m)\u001b[0m \u001b[1;32mand\u001b[0m \u001b[0mlen\u001b[0m\u001b[1;33m(\u001b[0m\u001b[0mvalue\u001b[0m\u001b[1;33m)\u001b[0m \u001b[1;33m>\u001b[0m \u001b[1;36m0\u001b[0m\u001b[1;33m:\u001b[0m\u001b[1;33m\u001b[0m\u001b[1;33m\u001b[0m\u001b[0m\n",
      "\u001b[1;32m~\\Anaconda3\\lib\\site-packages\\pandas\\core\\internals\\construction.py\u001b[0m in \u001b[0;36msanitize_index\u001b[1;34m(data, index, copy)\u001b[0m\n\u001b[0;32m    517\u001b[0m \u001b[1;33m\u001b[0m\u001b[0m\n\u001b[0;32m    518\u001b[0m     \u001b[1;32mif\u001b[0m \u001b[0mlen\u001b[0m\u001b[1;33m(\u001b[0m\u001b[0mdata\u001b[0m\u001b[1;33m)\u001b[0m \u001b[1;33m!=\u001b[0m \u001b[0mlen\u001b[0m\u001b[1;33m(\u001b[0m\u001b[0mindex\u001b[0m\u001b[1;33m)\u001b[0m\u001b[1;33m:\u001b[0m\u001b[1;33m\u001b[0m\u001b[1;33m\u001b[0m\u001b[0m\n\u001b[1;32m--> 519\u001b[1;33m         \u001b[1;32mraise\u001b[0m \u001b[0mValueError\u001b[0m\u001b[1;33m(\u001b[0m\u001b[1;34m'Length of values does not match length of index'\u001b[0m\u001b[1;33m)\u001b[0m\u001b[1;33m\u001b[0m\u001b[1;33m\u001b[0m\u001b[0m\n\u001b[0m\u001b[0;32m    520\u001b[0m \u001b[1;33m\u001b[0m\u001b[0m\n\u001b[0;32m    521\u001b[0m     \u001b[1;32mif\u001b[0m \u001b[0misinstance\u001b[0m\u001b[1;33m(\u001b[0m\u001b[0mdata\u001b[0m\u001b[1;33m,\u001b[0m \u001b[0mABCIndexClass\u001b[0m\u001b[1;33m)\u001b[0m \u001b[1;32mand\u001b[0m \u001b[1;32mnot\u001b[0m \u001b[0mcopy\u001b[0m\u001b[1;33m:\u001b[0m\u001b[1;33m\u001b[0m\u001b[1;33m\u001b[0m\u001b[0m\n",
      "\u001b[1;31mValueError\u001b[0m: Length of values does not match length of index"
     ]
    }
   ],
   "source": [
    "df['code'] = mfi\n",
    "df['Scheme Name'] = mfn\n",
    "df"
   ]
  },
  {
   "cell_type": "code",
   "execution_count": null,
   "metadata": {},
   "outputs": [],
   "source": []
  }
 ],
 "metadata": {
  "kernelspec": {
   "display_name": "Python 3.7.3 64-bit ('base': conda)",
   "language": "python",
   "name": "python_defaultSpec_1596093000271"
  },
  "language_info": {
   "codemirror_mode": {
    "name": "ipython",
    "version": 3
   },
   "file_extension": ".py",
   "mimetype": "text/x-python",
   "name": "python",
   "nbconvert_exporter": "python",
   "pygments_lexer": "ipython3",
   "version": "3.7.3-final"
  }
 },
 "nbformat": 4,
 "nbformat_minor": 2
}